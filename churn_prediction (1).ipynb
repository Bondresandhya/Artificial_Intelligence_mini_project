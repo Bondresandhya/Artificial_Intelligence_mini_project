{
  "cells": [
    {
      "cell_type": "markdown",
      "metadata": {
        "id": "sOzAfGAPmXVi"
      },
      "source": [
        "**Importing the necessary packages and libraries**"
      ]
    },
    {
      "cell_type": "code",
      "execution_count": null,
      "metadata": {
        "colab": {
          "base_uri": "https://localhost:8080/"
        },
        "id": "Eq-_uEMo5U-T",
        "outputId": "530ca888-76f5-45ed-ce96-5791678f4b3b"
      },
      "outputs": [
        {
          "name": "stdout",
          "output_type": "stream",
          "text": [
            "Mounted at /content/drive\n"
          ]
        }
      ],
      "source": [
        "from google.colab import drive\n",
        "drive.mount('/content/drive')"
      ]
    },
    {
      "cell_type": "code",
      "execution_count": null,
      "metadata": {
        "id": "D__XuJXZocTF"
      },
      "outputs": [],
      "source": [
        "#Necessary packages\n",
        "import numpy as np\n",
        "import tensorflow as tf\n",
        "import pandas as pd\n",
        "import seaborn as sn\n",
        "import matplotlib.pyplot as plt\n",
        "from tensorflow import keras\n",
        "from sklearn.preprocessing import LabelEncoder, OneHotEncoder\n",
        "from sklearn.model_selection import train_test_split\n",
        "from keras.models import Sequential\n",
        "from keras.layers import Dense\n",
        "from sklearn.compose import ColumnTransformer"
      ]
    },
    {
      "cell_type": "code",
      "execution_count": null,
      "metadata": {
        "id": "U-7VVDJ1qFqB"
      },
      "outputs": [],
      "source": [
        "dataset = pd.read_csv('/content/drive/MyDrive/churn/Churn_Modelling.csv')"
      ]
    },
    {
      "cell_type": "markdown",
      "metadata": {
        "id": "35zgj4g0m3_8"
      },
      "source": [
        "**Displaying the first 5 rows from the dataset**"
      ]
    },
    {
      "cell_type": "code",
      "execution_count": null,
      "metadata": {
        "colab": {
          "base_uri": "https://localhost:8080/",
          "height": 195
        },
        "id": "0D7GfeZg8sD6",
        "outputId": "8f72d757-2464-47d0-ee24-29d3f4a5c595"
      },
      "outputs": [
        {
          "data": {
            "text/html": [
              "<div>\n",
              "<style scoped>\n",
              "    .dataframe tbody tr th:only-of-type {\n",
              "        vertical-align: middle;\n",
              "    }\n",
              "\n",
              "    .dataframe tbody tr th {\n",
              "        vertical-align: top;\n",
              "    }\n",
              "\n",
              "    .dataframe thead th {\n",
              "        text-align: right;\n",
              "    }\n",
              "</style>\n",
              "<table border=\"1\" class=\"dataframe\">\n",
              "  <thead>\n",
              "    <tr style=\"text-align: right;\">\n",
              "      <th></th>\n",
              "      <th>RowNumber</th>\n",
              "      <th>CustomerId</th>\n",
              "      <th>Surname</th>\n",
              "      <th>CreditScore</th>\n",
              "      <th>Geography</th>\n",
              "      <th>Gender</th>\n",
              "      <th>Age</th>\n",
              "      <th>Tenure</th>\n",
              "      <th>Balance</th>\n",
              "      <th>NumOfProducts</th>\n",
              "      <th>HasCrCard</th>\n",
              "      <th>IsActiveMember</th>\n",
              "      <th>EstimatedSalary</th>\n",
              "      <th>Exited</th>\n",
              "    </tr>\n",
              "  </thead>\n",
              "  <tbody>\n",
              "    <tr>\n",
              "      <th>0</th>\n",
              "      <td>1</td>\n",
              "      <td>15634602</td>\n",
              "      <td>Hargrave</td>\n",
              "      <td>619</td>\n",
              "      <td>France</td>\n",
              "      <td>Female</td>\n",
              "      <td>42</td>\n",
              "      <td>2</td>\n",
              "      <td>0.00</td>\n",
              "      <td>1</td>\n",
              "      <td>1</td>\n",
              "      <td>1</td>\n",
              "      <td>101348.88</td>\n",
              "      <td>1</td>\n",
              "    </tr>\n",
              "    <tr>\n",
              "      <th>1</th>\n",
              "      <td>2</td>\n",
              "      <td>15647311</td>\n",
              "      <td>Hill</td>\n",
              "      <td>608</td>\n",
              "      <td>Spain</td>\n",
              "      <td>Female</td>\n",
              "      <td>41</td>\n",
              "      <td>1</td>\n",
              "      <td>83807.86</td>\n",
              "      <td>1</td>\n",
              "      <td>0</td>\n",
              "      <td>1</td>\n",
              "      <td>112542.58</td>\n",
              "      <td>0</td>\n",
              "    </tr>\n",
              "    <tr>\n",
              "      <th>2</th>\n",
              "      <td>3</td>\n",
              "      <td>15619304</td>\n",
              "      <td>Onio</td>\n",
              "      <td>502</td>\n",
              "      <td>France</td>\n",
              "      <td>Female</td>\n",
              "      <td>42</td>\n",
              "      <td>8</td>\n",
              "      <td>159660.80</td>\n",
              "      <td>3</td>\n",
              "      <td>1</td>\n",
              "      <td>0</td>\n",
              "      <td>113931.57</td>\n",
              "      <td>1</td>\n",
              "    </tr>\n",
              "    <tr>\n",
              "      <th>3</th>\n",
              "      <td>4</td>\n",
              "      <td>15701354</td>\n",
              "      <td>Boni</td>\n",
              "      <td>699</td>\n",
              "      <td>France</td>\n",
              "      <td>Female</td>\n",
              "      <td>39</td>\n",
              "      <td>1</td>\n",
              "      <td>0.00</td>\n",
              "      <td>2</td>\n",
              "      <td>0</td>\n",
              "      <td>0</td>\n",
              "      <td>93826.63</td>\n",
              "      <td>0</td>\n",
              "    </tr>\n",
              "    <tr>\n",
              "      <th>4</th>\n",
              "      <td>5</td>\n",
              "      <td>15737888</td>\n",
              "      <td>Mitchell</td>\n",
              "      <td>850</td>\n",
              "      <td>Spain</td>\n",
              "      <td>Female</td>\n",
              "      <td>43</td>\n",
              "      <td>2</td>\n",
              "      <td>125510.82</td>\n",
              "      <td>1</td>\n",
              "      <td>1</td>\n",
              "      <td>1</td>\n",
              "      <td>79084.10</td>\n",
              "      <td>0</td>\n",
              "    </tr>\n",
              "  </tbody>\n",
              "</table>\n",
              "</div>"
            ],
            "text/plain": [
              "   RowNumber  CustomerId   Surname  ...  IsActiveMember EstimatedSalary Exited\n",
              "0          1    15634602  Hargrave  ...               1       101348.88      1\n",
              "1          2    15647311      Hill  ...               1       112542.58      0\n",
              "2          3    15619304      Onio  ...               0       113931.57      1\n",
              "3          4    15701354      Boni  ...               0        93826.63      0\n",
              "4          5    15737888  Mitchell  ...               1        79084.10      0\n",
              "\n",
              "[5 rows x 14 columns]"
            ]
          },
          "execution_count": 4,
          "metadata": {
            "tags": []
          },
          "output_type": "execute_result"
        }
      ],
      "source": [
        "dataset.head()"
      ]
    },
    {
      "cell_type": "markdown",
      "metadata": {
        "id": "fWkx45FtnCbA"
      },
      "source": [
        "# **Data Preprocessing**"
      ]
    },
    {
      "cell_type": "markdown",
      "metadata": {
        "id": "ivlASrzEnM2y"
      },
      "source": [
        "\n",
        "\n",
        "\n",
        "Removing the **unnecessary columns** and splitting the target attribute for training."
      ]
    },
    {
      "cell_type": "code",
      "execution_count": null,
      "metadata": {
        "id": "De5FyPfX8uWX"
      },
      "outputs": [],
      "source": [
        "features = dataset.drop(labels=['CustomerId', 'Surname', 'RowNumber', 'Exited'], axis = 1)\n",
        "target  = dataset['Exited']"
      ]
    },
    {
      "cell_type": "markdown",
      "metadata": {
        "id": "8EsFf9iupAPc"
      },
      "source": [
        "Displaying the features in the dataset after removing **unnecessary attributes**."
      ]
    },
    {
      "cell_type": "code",
      "execution_count": null,
      "metadata": {
        "colab": {
          "base_uri": "https://localhost:8080/",
          "height": 195
        },
        "id": "3RfaNYzm82ya",
        "outputId": "6c3b96d3-5ec9-4a2c-8b0c-62288e173752"
      },
      "outputs": [
        {
          "data": {
            "text/html": [
              "<div>\n",
              "<style scoped>\n",
              "    .dataframe tbody tr th:only-of-type {\n",
              "        vertical-align: middle;\n",
              "    }\n",
              "\n",
              "    .dataframe tbody tr th {\n",
              "        vertical-align: top;\n",
              "    }\n",
              "\n",
              "    .dataframe thead th {\n",
              "        text-align: right;\n",
              "    }\n",
              "</style>\n",
              "<table border=\"1\" class=\"dataframe\">\n",
              "  <thead>\n",
              "    <tr style=\"text-align: right;\">\n",
              "      <th></th>\n",
              "      <th>CreditScore</th>\n",
              "      <th>Geography</th>\n",
              "      <th>Gender</th>\n",
              "      <th>Age</th>\n",
              "      <th>Tenure</th>\n",
              "      <th>Balance</th>\n",
              "      <th>NumOfProducts</th>\n",
              "      <th>HasCrCard</th>\n",
              "      <th>IsActiveMember</th>\n",
              "      <th>EstimatedSalary</th>\n",
              "    </tr>\n",
              "  </thead>\n",
              "  <tbody>\n",
              "    <tr>\n",
              "      <th>0</th>\n",
              "      <td>619</td>\n",
              "      <td>France</td>\n",
              "      <td>Female</td>\n",
              "      <td>42</td>\n",
              "      <td>2</td>\n",
              "      <td>0.00</td>\n",
              "      <td>1</td>\n",
              "      <td>1</td>\n",
              "      <td>1</td>\n",
              "      <td>101348.88</td>\n",
              "    </tr>\n",
              "    <tr>\n",
              "      <th>1</th>\n",
              "      <td>608</td>\n",
              "      <td>Spain</td>\n",
              "      <td>Female</td>\n",
              "      <td>41</td>\n",
              "      <td>1</td>\n",
              "      <td>83807.86</td>\n",
              "      <td>1</td>\n",
              "      <td>0</td>\n",
              "      <td>1</td>\n",
              "      <td>112542.58</td>\n",
              "    </tr>\n",
              "    <tr>\n",
              "      <th>2</th>\n",
              "      <td>502</td>\n",
              "      <td>France</td>\n",
              "      <td>Female</td>\n",
              "      <td>42</td>\n",
              "      <td>8</td>\n",
              "      <td>159660.80</td>\n",
              "      <td>3</td>\n",
              "      <td>1</td>\n",
              "      <td>0</td>\n",
              "      <td>113931.57</td>\n",
              "    </tr>\n",
              "    <tr>\n",
              "      <th>3</th>\n",
              "      <td>699</td>\n",
              "      <td>France</td>\n",
              "      <td>Female</td>\n",
              "      <td>39</td>\n",
              "      <td>1</td>\n",
              "      <td>0.00</td>\n",
              "      <td>2</td>\n",
              "      <td>0</td>\n",
              "      <td>0</td>\n",
              "      <td>93826.63</td>\n",
              "    </tr>\n",
              "    <tr>\n",
              "      <th>4</th>\n",
              "      <td>850</td>\n",
              "      <td>Spain</td>\n",
              "      <td>Female</td>\n",
              "      <td>43</td>\n",
              "      <td>2</td>\n",
              "      <td>125510.82</td>\n",
              "      <td>1</td>\n",
              "      <td>1</td>\n",
              "      <td>1</td>\n",
              "      <td>79084.10</td>\n",
              "    </tr>\n",
              "  </tbody>\n",
              "</table>\n",
              "</div>"
            ],
            "text/plain": [
              "   CreditScore Geography  Gender  ...  HasCrCard  IsActiveMember  EstimatedSalary\n",
              "0          619    France  Female  ...          1               1        101348.88\n",
              "1          608     Spain  Female  ...          0               1        112542.58\n",
              "2          502    France  Female  ...          1               0        113931.57\n",
              "3          699    France  Female  ...          0               0         93826.63\n",
              "4          850     Spain  Female  ...          1               1         79084.10\n",
              "\n",
              "[5 rows x 10 columns]"
            ]
          },
          "execution_count": 6,
          "metadata": {
            "tags": []
          },
          "output_type": "execute_result"
        }
      ],
      "source": [
        "features.head()"
      ]
    },
    {
      "cell_type": "code",
      "execution_count": null,
      "metadata": {
        "colab": {
          "base_uri": "https://localhost:8080/"
        },
        "id": "HEu2I4gl9B2B",
        "outputId": "5635b5e3-590d-4dd5-9825-efd746dd5e44"
      },
      "outputs": [
        {
          "data": {
            "text/plain": [
              "0    1\n",
              "1    0\n",
              "2    1\n",
              "3    0\n",
              "4    0\n",
              "Name: Exited, dtype: int64"
            ]
          },
          "execution_count": 7,
          "metadata": {
            "tags": []
          },
          "output_type": "execute_result"
        }
      ],
      "source": [
        "target.head()"
      ]
    },
    {
      "cell_type": "code",
      "execution_count": null,
      "metadata": {
        "colab": {
          "base_uri": "https://localhost:8080/",
          "height": 195
        },
        "id": "6-ghXUmyCZQ4",
        "outputId": "1d087775-7ac5-4ed0-dc81-4601601ff571"
      },
      "outputs": [
        {
          "data": {
            "text/html": [
              "<div>\n",
              "<style scoped>\n",
              "    .dataframe tbody tr th:only-of-type {\n",
              "        vertical-align: middle;\n",
              "    }\n",
              "\n",
              "    .dataframe tbody tr th {\n",
              "        vertical-align: top;\n",
              "    }\n",
              "\n",
              "    .dataframe thead th {\n",
              "        text-align: right;\n",
              "    }\n",
              "</style>\n",
              "<table border=\"1\" class=\"dataframe\">\n",
              "  <thead>\n",
              "    <tr style=\"text-align: right;\">\n",
              "      <th></th>\n",
              "      <th>CreditScore</th>\n",
              "      <th>Gender</th>\n",
              "      <th>Age</th>\n",
              "      <th>Tenure</th>\n",
              "      <th>Balance</th>\n",
              "      <th>NumOfProducts</th>\n",
              "      <th>HasCrCard</th>\n",
              "      <th>IsActiveMember</th>\n",
              "      <th>EstimatedSalary</th>\n",
              "      <th>geo_France</th>\n",
              "      <th>geo_Germany</th>\n",
              "      <th>geo_Spain</th>\n",
              "    </tr>\n",
              "  </thead>\n",
              "  <tbody>\n",
              "    <tr>\n",
              "      <th>0</th>\n",
              "      <td>619</td>\n",
              "      <td>Female</td>\n",
              "      <td>42</td>\n",
              "      <td>2</td>\n",
              "      <td>0.00</td>\n",
              "      <td>1</td>\n",
              "      <td>1</td>\n",
              "      <td>1</td>\n",
              "      <td>101348.88</td>\n",
              "      <td>1</td>\n",
              "      <td>0</td>\n",
              "      <td>0</td>\n",
              "    </tr>\n",
              "    <tr>\n",
              "      <th>1</th>\n",
              "      <td>608</td>\n",
              "      <td>Female</td>\n",
              "      <td>41</td>\n",
              "      <td>1</td>\n",
              "      <td>83807.86</td>\n",
              "      <td>1</td>\n",
              "      <td>0</td>\n",
              "      <td>1</td>\n",
              "      <td>112542.58</td>\n",
              "      <td>0</td>\n",
              "      <td>0</td>\n",
              "      <td>1</td>\n",
              "    </tr>\n",
              "    <tr>\n",
              "      <th>2</th>\n",
              "      <td>502</td>\n",
              "      <td>Female</td>\n",
              "      <td>42</td>\n",
              "      <td>8</td>\n",
              "      <td>159660.80</td>\n",
              "      <td>3</td>\n",
              "      <td>1</td>\n",
              "      <td>0</td>\n",
              "      <td>113931.57</td>\n",
              "      <td>1</td>\n",
              "      <td>0</td>\n",
              "      <td>0</td>\n",
              "    </tr>\n",
              "    <tr>\n",
              "      <th>3</th>\n",
              "      <td>699</td>\n",
              "      <td>Female</td>\n",
              "      <td>39</td>\n",
              "      <td>1</td>\n",
              "      <td>0.00</td>\n",
              "      <td>2</td>\n",
              "      <td>0</td>\n",
              "      <td>0</td>\n",
              "      <td>93826.63</td>\n",
              "      <td>1</td>\n",
              "      <td>0</td>\n",
              "      <td>0</td>\n",
              "    </tr>\n",
              "    <tr>\n",
              "      <th>4</th>\n",
              "      <td>850</td>\n",
              "      <td>Female</td>\n",
              "      <td>43</td>\n",
              "      <td>2</td>\n",
              "      <td>125510.82</td>\n",
              "      <td>1</td>\n",
              "      <td>1</td>\n",
              "      <td>1</td>\n",
              "      <td>79084.10</td>\n",
              "      <td>0</td>\n",
              "      <td>0</td>\n",
              "      <td>1</td>\n",
              "    </tr>\n",
              "  </tbody>\n",
              "</table>\n",
              "</div>"
            ],
            "text/plain": [
              "   CreditScore  Gender  Age  ...  geo_France  geo_Germany  geo_Spain\n",
              "0          619  Female   42  ...           1            0          0\n",
              "1          608  Female   41  ...           0            0          1\n",
              "2          502  Female   42  ...           1            0          0\n",
              "3          699  Female   39  ...           1            0          0\n",
              "4          850  Female   43  ...           0            0          1\n",
              "\n",
              "[5 rows x 12 columns]"
            ]
          },
          "execution_count": 8,
          "metadata": {
            "tags": []
          },
          "output_type": "execute_result"
        }
      ],
      "source": [
        "features = pd.get_dummies(features, prefix=['geo'],columns=['Geography'])\n",
        "features.head()"
      ]
    },
    {
      "cell_type": "markdown",
      "metadata": {
        "id": "EpjZwce0qWia"
      },
      "source": [
        "**Labelling the Gender value as 0 and 1.**\n",
        "\n"
      ]
    },
    {
      "cell_type": "code",
      "execution_count": null,
      "metadata": {
        "id": "XOb_qNaQ9rqA"
      },
      "outputs": [],
      "source": [
        "label1 = LabelEncoder()\n",
        "features['Gender'] = label1.fit_transform(features['Gender'])"
      ]
    },
    {
      "cell_type": "code",
      "execution_count": null,
      "metadata": {
        "colab": {
          "base_uri": "https://localhost:8080/",
          "height": 195
        },
        "id": "Df7tJjOv-D1_",
        "outputId": "f1daca21-b209-43b9-d17f-1c9b9a28a678"
      },
      "outputs": [
        {
          "data": {
            "text/html": [
              "<div>\n",
              "<style scoped>\n",
              "    .dataframe tbody tr th:only-of-type {\n",
              "        vertical-align: middle;\n",
              "    }\n",
              "\n",
              "    .dataframe tbody tr th {\n",
              "        vertical-align: top;\n",
              "    }\n",
              "\n",
              "    .dataframe thead th {\n",
              "        text-align: right;\n",
              "    }\n",
              "</style>\n",
              "<table border=\"1\" class=\"dataframe\">\n",
              "  <thead>\n",
              "    <tr style=\"text-align: right;\">\n",
              "      <th></th>\n",
              "      <th>CreditScore</th>\n",
              "      <th>Gender</th>\n",
              "      <th>Age</th>\n",
              "      <th>Tenure</th>\n",
              "      <th>Balance</th>\n",
              "      <th>NumOfProducts</th>\n",
              "      <th>HasCrCard</th>\n",
              "      <th>IsActiveMember</th>\n",
              "      <th>EstimatedSalary</th>\n",
              "      <th>geo_France</th>\n",
              "      <th>geo_Germany</th>\n",
              "      <th>geo_Spain</th>\n",
              "    </tr>\n",
              "  </thead>\n",
              "  <tbody>\n",
              "    <tr>\n",
              "      <th>0</th>\n",
              "      <td>619</td>\n",
              "      <td>0</td>\n",
              "      <td>42</td>\n",
              "      <td>2</td>\n",
              "      <td>0.00</td>\n",
              "      <td>1</td>\n",
              "      <td>1</td>\n",
              "      <td>1</td>\n",
              "      <td>101348.88</td>\n",
              "      <td>1</td>\n",
              "      <td>0</td>\n",
              "      <td>0</td>\n",
              "    </tr>\n",
              "    <tr>\n",
              "      <th>1</th>\n",
              "      <td>608</td>\n",
              "      <td>0</td>\n",
              "      <td>41</td>\n",
              "      <td>1</td>\n",
              "      <td>83807.86</td>\n",
              "      <td>1</td>\n",
              "      <td>0</td>\n",
              "      <td>1</td>\n",
              "      <td>112542.58</td>\n",
              "      <td>0</td>\n",
              "      <td>0</td>\n",
              "      <td>1</td>\n",
              "    </tr>\n",
              "    <tr>\n",
              "      <th>2</th>\n",
              "      <td>502</td>\n",
              "      <td>0</td>\n",
              "      <td>42</td>\n",
              "      <td>8</td>\n",
              "      <td>159660.80</td>\n",
              "      <td>3</td>\n",
              "      <td>1</td>\n",
              "      <td>0</td>\n",
              "      <td>113931.57</td>\n",
              "      <td>1</td>\n",
              "      <td>0</td>\n",
              "      <td>0</td>\n",
              "    </tr>\n",
              "    <tr>\n",
              "      <th>3</th>\n",
              "      <td>699</td>\n",
              "      <td>0</td>\n",
              "      <td>39</td>\n",
              "      <td>1</td>\n",
              "      <td>0.00</td>\n",
              "      <td>2</td>\n",
              "      <td>0</td>\n",
              "      <td>0</td>\n",
              "      <td>93826.63</td>\n",
              "      <td>1</td>\n",
              "      <td>0</td>\n",
              "      <td>0</td>\n",
              "    </tr>\n",
              "    <tr>\n",
              "      <th>4</th>\n",
              "      <td>850</td>\n",
              "      <td>0</td>\n",
              "      <td>43</td>\n",
              "      <td>2</td>\n",
              "      <td>125510.82</td>\n",
              "      <td>1</td>\n",
              "      <td>1</td>\n",
              "      <td>1</td>\n",
              "      <td>79084.10</td>\n",
              "      <td>0</td>\n",
              "      <td>0</td>\n",
              "      <td>1</td>\n",
              "    </tr>\n",
              "  </tbody>\n",
              "</table>\n",
              "</div>"
            ],
            "text/plain": [
              "   CreditScore  Gender  Age  ...  geo_France  geo_Germany  geo_Spain\n",
              "0          619       0   42  ...           1            0          0\n",
              "1          608       0   41  ...           0            0          1\n",
              "2          502       0   42  ...           1            0          0\n",
              "3          699       0   39  ...           1            0          0\n",
              "4          850       0   43  ...           0            0          1\n",
              "\n",
              "[5 rows x 12 columns]"
            ]
          },
          "execution_count": 10,
          "metadata": {
            "tags": []
          },
          "output_type": "execute_result"
        }
      ],
      "source": [
        "features.head()"
      ]
    },
    {
      "cell_type": "markdown",
      "metadata": {
        "id": "zMVvMckRqvvD"
      },
      "source": [
        "**Splitting the dataset for training and testing.**\n"
      ]
    },
    {
      "cell_type": "code",
      "execution_count": null,
      "metadata": {
        "id": "3Axr2aMOAFQ5"
      },
      "outputs": [],
      "source": [
        "train,test,trainlabel,testlabel = train_test_split(features, target, test_size = 0.2, random_state = 1)"
      ]
    },
    {
      "cell_type": "markdown",
      "metadata": {
        "id": "m6KQchbZrIyj"
      },
      "source": [
        "**Displaying the no of samples in training and testing.**"
      ]
    },
    {
      "cell_type": "code",
      "execution_count": null,
      "metadata": {
        "colab": {
          "base_uri": "https://localhost:8080/"
        },
        "id": "sW8tz9InrRuP",
        "outputId": "d7445a3d-f766-4f82-f4c2-8f7f01ac69ed"
      },
      "outputs": [
        {
          "name": "stdout",
          "output_type": "stream",
          "text": [
            "Training samples: 8000\n",
            "Testing samples: 2000\n",
            "Training sample size: (8000, 12)\n",
            "Testing sample size: (2000, 12)\n"
          ]
        }
      ],
      "source": [
        "print(\"Training samples:\" , train.shape[0])\n",
        "print(\"Testing samples:\" ,test.shape[0])\n",
        "print(\"Training sample size:\",train.shape)\n",
        "print(\"Testing sample size:\",test.shape)"
      ]
    },
    {
      "cell_type": "markdown",
      "metadata": {
        "id": "lANZqhEnsZn2"
      },
      "source": [
        "**Feature scaling**\n"
      ]
    },
    {
      "cell_type": "code",
      "execution_count": null,
      "metadata": {
        "id": "f7XvCSS9Dixn"
      },
      "outputs": [],
      "source": [
        "from sklearn.preprocessing import StandardScaler\n",
        "sc = StandardScaler()\n",
        "train = sc.fit_transform(train)# Scaling fitted only to training set to avoid information leakage.\n",
        "test = sc.transform(test)"
      ]
    },
    {
      "cell_type": "markdown",
      "metadata": {
        "id": "mxTJdBiessW6"
      },
      "source": [
        "# **Building the ANN model**"
      ]
    },
    {
      "cell_type": "code",
      "execution_count": null,
      "metadata": {
        "id": "O2b0KsyyDnCo"
      },
      "outputs": [],
      "source": [
        "#Create a variable to represent the ANN model as an instance\n",
        "model = Sequential([\n",
        "        keras.layers.Dense(units=32,activation=\"relu\",kernel_initializer=\"normal\",input_dim = 12), #input layer and hidden layer\n",
        "        keras.layers.Dense(units=16,activation=\"relu\",kernel_initializer=\"normal\"), #hidden layer\n",
        "        keras.layers.Dense(units=1,activation=\"sigmoid\",kernel_initializer=\"normal\") #output layer\n",
        "      ])"
      ]
    },
    {
      "cell_type": "code",
      "execution_count": null,
      "metadata": {
        "id": "fVu9EoZ-tV6E"
      },
      "outputs": [],
      "source": [
        "model.compile(optimizer='adam', loss= 'binary_crossentropy', metrics=['accuracy'])"
      ]
    },
    {
      "cell_type": "code",
      "execution_count": null,
      "metadata": {
        "colab": {
          "base_uri": "https://localhost:8080/"
        },
        "id": "wtWe2YHVDrwv",
        "outputId": "d83b77d6-bca1-448f-f83d-5fa7c8cbf584"
      },
      "outputs": [
        {
          "name": "stdout",
          "output_type": "stream",
          "text": [
            "Epoch 1/100\n",
            "400/400 [==============================] - 4s 2ms/step - loss: 0.5664 - accuracy: 0.7715\n",
            "Epoch 2/100\n",
            "400/400 [==============================] - 1s 2ms/step - loss: 0.4092 - accuracy: 0.8290\n",
            "Epoch 3/100\n",
            "400/400 [==============================] - 1s 2ms/step - loss: 0.3992 - accuracy: 0.8303\n",
            "Epoch 4/100\n",
            "400/400 [==============================] - 1s 2ms/step - loss: 0.3824 - accuracy: 0.8377\n",
            "Epoch 5/100\n",
            "400/400 [==============================] - 1s 2ms/step - loss: 0.3617 - accuracy: 0.8557\n",
            "Epoch 6/100\n",
            "400/400 [==============================] - 1s 2ms/step - loss: 0.3439 - accuracy: 0.8641\n",
            "Epoch 7/100\n",
            "400/400 [==============================] - 1s 2ms/step - loss: 0.3400 - accuracy: 0.8618\n",
            "Epoch 8/100\n",
            "400/400 [==============================] - 1s 2ms/step - loss: 0.3375 - accuracy: 0.8623\n",
            "Epoch 9/100\n",
            "400/400 [==============================] - 1s 2ms/step - loss: 0.3389 - accuracy: 0.8593\n",
            "Epoch 10/100\n",
            "400/400 [==============================] - 1s 2ms/step - loss: 0.3376 - accuracy: 0.8604\n",
            "Epoch 11/100\n",
            "400/400 [==============================] - 1s 2ms/step - loss: 0.3296 - accuracy: 0.8663\n",
            "Epoch 12/100\n",
            "400/400 [==============================] - 1s 2ms/step - loss: 0.3135 - accuracy: 0.8732\n",
            "Epoch 13/100\n",
            "400/400 [==============================] - 1s 2ms/step - loss: 0.3272 - accuracy: 0.8637\n",
            "Epoch 14/100\n",
            "400/400 [==============================] - 1s 2ms/step - loss: 0.3326 - accuracy: 0.8616\n",
            "Epoch 15/100\n",
            "400/400 [==============================] - 1s 2ms/step - loss: 0.3318 - accuracy: 0.8605\n",
            "Epoch 16/100\n",
            "400/400 [==============================] - 1s 2ms/step - loss: 0.3254 - accuracy: 0.8687\n",
            "Epoch 17/100\n",
            "400/400 [==============================] - 1s 2ms/step - loss: 0.3326 - accuracy: 0.8583\n",
            "Epoch 18/100\n",
            "400/400 [==============================] - 1s 2ms/step - loss: 0.3239 - accuracy: 0.8671\n",
            "Epoch 19/100\n",
            "400/400 [==============================] - 1s 2ms/step - loss: 0.3307 - accuracy: 0.8653\n",
            "Epoch 20/100\n",
            "400/400 [==============================] - 1s 2ms/step - loss: 0.3341 - accuracy: 0.8598\n",
            "Epoch 21/100\n",
            "400/400 [==============================] - 1s 2ms/step - loss: 0.3252 - accuracy: 0.8681\n",
            "Epoch 22/100\n",
            "400/400 [==============================] - 1s 2ms/step - loss: 0.3326 - accuracy: 0.8622\n",
            "Epoch 23/100\n",
            "400/400 [==============================] - 1s 2ms/step - loss: 0.3261 - accuracy: 0.8633\n",
            "Epoch 24/100\n",
            "400/400 [==============================] - 1s 2ms/step - loss: 0.3307 - accuracy: 0.8648\n",
            "Epoch 25/100\n",
            "400/400 [==============================] - 1s 2ms/step - loss: 0.3278 - accuracy: 0.8633\n",
            "Epoch 26/100\n",
            "400/400 [==============================] - 1s 2ms/step - loss: 0.3251 - accuracy: 0.8637\n",
            "Epoch 27/100\n",
            "400/400 [==============================] - 1s 2ms/step - loss: 0.3243 - accuracy: 0.8667\n",
            "Epoch 28/100\n",
            "400/400 [==============================] - 1s 2ms/step - loss: 0.3309 - accuracy: 0.8597\n",
            "Epoch 29/100\n",
            "400/400 [==============================] - 1s 2ms/step - loss: 0.3098 - accuracy: 0.8739\n",
            "Epoch 30/100\n",
            "400/400 [==============================] - 1s 2ms/step - loss: 0.3191 - accuracy: 0.8696\n",
            "Epoch 31/100\n",
            "400/400 [==============================] - 1s 2ms/step - loss: 0.3188 - accuracy: 0.8654\n",
            "Epoch 32/100\n",
            "400/400 [==============================] - 1s 2ms/step - loss: 0.3292 - accuracy: 0.8613\n",
            "Epoch 33/100\n",
            "400/400 [==============================] - 1s 2ms/step - loss: 0.3183 - accuracy: 0.8672\n",
            "Epoch 34/100\n",
            "400/400 [==============================] - 1s 2ms/step - loss: 0.3223 - accuracy: 0.8695\n",
            "Epoch 35/100\n",
            "400/400 [==============================] - 1s 2ms/step - loss: 0.3092 - accuracy: 0.8685\n",
            "Epoch 36/100\n",
            "400/400 [==============================] - 1s 2ms/step - loss: 0.3223 - accuracy: 0.8684\n",
            "Epoch 37/100\n",
            "400/400 [==============================] - 1s 2ms/step - loss: 0.3173 - accuracy: 0.8655\n",
            "Epoch 38/100\n",
            "400/400 [==============================] - 1s 2ms/step - loss: 0.3238 - accuracy: 0.8639\n",
            "Epoch 39/100\n",
            "400/400 [==============================] - 1s 2ms/step - loss: 0.3099 - accuracy: 0.8685\n",
            "Epoch 40/100\n",
            "400/400 [==============================] - 1s 2ms/step - loss: 0.3105 - accuracy: 0.8712\n",
            "Epoch 41/100\n",
            "400/400 [==============================] - 1s 2ms/step - loss: 0.3129 - accuracy: 0.8712\n",
            "Epoch 42/100\n",
            "400/400 [==============================] - 1s 2ms/step - loss: 0.3145 - accuracy: 0.8680\n",
            "Epoch 43/100\n",
            "400/400 [==============================] - 1s 2ms/step - loss: 0.3101 - accuracy: 0.8666\n",
            "Epoch 44/100\n",
            "400/400 [==============================] - 1s 2ms/step - loss: 0.3218 - accuracy: 0.8644\n",
            "Epoch 45/100\n",
            "400/400 [==============================] - 1s 2ms/step - loss: 0.3208 - accuracy: 0.8633\n",
            "Epoch 46/100\n",
            "400/400 [==============================] - 1s 2ms/step - loss: 0.3085 - accuracy: 0.8733\n",
            "Epoch 47/100\n",
            "400/400 [==============================] - 1s 2ms/step - loss: 0.3018 - accuracy: 0.8742\n",
            "Epoch 48/100\n",
            "400/400 [==============================] - 1s 2ms/step - loss: 0.3125 - accuracy: 0.8692\n",
            "Epoch 49/100\n",
            "400/400 [==============================] - 1s 2ms/step - loss: 0.3175 - accuracy: 0.8697\n",
            "Epoch 50/100\n",
            "400/400 [==============================] - 1s 2ms/step - loss: 0.3222 - accuracy: 0.8628\n",
            "Epoch 51/100\n",
            "400/400 [==============================] - 1s 2ms/step - loss: 0.3160 - accuracy: 0.8671\n",
            "Epoch 52/100\n",
            "400/400 [==============================] - 1s 2ms/step - loss: 0.3241 - accuracy: 0.8629\n",
            "Epoch 53/100\n",
            "400/400 [==============================] - 1s 2ms/step - loss: 0.3143 - accuracy: 0.8675\n",
            "Epoch 54/100\n",
            "400/400 [==============================] - 1s 2ms/step - loss: 0.3220 - accuracy: 0.8667\n",
            "Epoch 55/100\n",
            "400/400 [==============================] - 1s 2ms/step - loss: 0.3090 - accuracy: 0.8689\n",
            "Epoch 56/100\n",
            "400/400 [==============================] - 1s 2ms/step - loss: 0.2994 - accuracy: 0.8798\n",
            "Epoch 57/100\n",
            "400/400 [==============================] - 1s 2ms/step - loss: 0.3092 - accuracy: 0.8709\n",
            "Epoch 58/100\n",
            "400/400 [==============================] - 1s 2ms/step - loss: 0.3136 - accuracy: 0.8692\n",
            "Epoch 59/100\n",
            "400/400 [==============================] - 1s 2ms/step - loss: 0.3035 - accuracy: 0.8720\n",
            "Epoch 60/100\n",
            "400/400 [==============================] - 1s 2ms/step - loss: 0.3022 - accuracy: 0.8755\n",
            "Epoch 61/100\n",
            "400/400 [==============================] - 1s 2ms/step - loss: 0.3051 - accuracy: 0.8721\n",
            "Epoch 62/100\n",
            "400/400 [==============================] - 1s 2ms/step - loss: 0.3037 - accuracy: 0.8725\n",
            "Epoch 63/100\n",
            "400/400 [==============================] - 1s 2ms/step - loss: 0.2923 - accuracy: 0.8813\n",
            "Epoch 64/100\n",
            "400/400 [==============================] - 1s 2ms/step - loss: 0.3077 - accuracy: 0.8718\n",
            "Epoch 65/100\n",
            "400/400 [==============================] - 1s 2ms/step - loss: 0.3022 - accuracy: 0.8765\n",
            "Epoch 66/100\n",
            "400/400 [==============================] - 1s 2ms/step - loss: 0.3204 - accuracy: 0.8648\n",
            "Epoch 67/100\n",
            "400/400 [==============================] - 1s 2ms/step - loss: 0.2994 - accuracy: 0.8736\n",
            "Epoch 68/100\n",
            "400/400 [==============================] - 1s 2ms/step - loss: 0.3050 - accuracy: 0.8771\n",
            "Epoch 69/100\n",
            "400/400 [==============================] - 1s 2ms/step - loss: 0.2999 - accuracy: 0.8784\n",
            "Epoch 70/100\n",
            "400/400 [==============================] - 1s 2ms/step - loss: 0.3004 - accuracy: 0.8740\n",
            "Epoch 71/100\n",
            "400/400 [==============================] - 1s 2ms/step - loss: 0.3076 - accuracy: 0.8682\n",
            "Epoch 72/100\n",
            "400/400 [==============================] - 1s 2ms/step - loss: 0.3154 - accuracy: 0.8656\n",
            "Epoch 73/100\n",
            "400/400 [==============================] - 1s 2ms/step - loss: 0.3059 - accuracy: 0.8724\n",
            "Epoch 74/100\n",
            "400/400 [==============================] - 1s 2ms/step - loss: 0.3078 - accuracy: 0.8738\n",
            "Epoch 75/100\n",
            "400/400 [==============================] - 1s 2ms/step - loss: 0.3105 - accuracy: 0.8669\n",
            "Epoch 76/100\n",
            "400/400 [==============================] - 1s 2ms/step - loss: 0.2851 - accuracy: 0.8829\n",
            "Epoch 77/100\n",
            "400/400 [==============================] - 1s 2ms/step - loss: 0.3091 - accuracy: 0.8711\n",
            "Epoch 78/100\n",
            "400/400 [==============================] - 1s 2ms/step - loss: 0.3095 - accuracy: 0.8725\n",
            "Epoch 79/100\n",
            "400/400 [==============================] - 1s 2ms/step - loss: 0.3140 - accuracy: 0.8685\n",
            "Epoch 80/100\n",
            "400/400 [==============================] - 1s 2ms/step - loss: 0.2986 - accuracy: 0.8788\n",
            "Epoch 81/100\n",
            "400/400 [==============================] - 1s 2ms/step - loss: 0.3064 - accuracy: 0.8704\n",
            "Epoch 82/100\n",
            "400/400 [==============================] - 1s 2ms/step - loss: 0.2984 - accuracy: 0.8805\n",
            "Epoch 83/100\n",
            "400/400 [==============================] - 1s 2ms/step - loss: 0.3007 - accuracy: 0.8761\n",
            "Epoch 84/100\n",
            "400/400 [==============================] - 1s 2ms/step - loss: 0.3057 - accuracy: 0.8749\n",
            "Epoch 85/100\n",
            "400/400 [==============================] - 1s 2ms/step - loss: 0.3013 - accuracy: 0.8744\n",
            "Epoch 86/100\n",
            "400/400 [==============================] - 1s 2ms/step - loss: 0.3002 - accuracy: 0.8727\n",
            "Epoch 87/100\n",
            "400/400 [==============================] - 1s 2ms/step - loss: 0.3024 - accuracy: 0.8757\n",
            "Epoch 88/100\n",
            "400/400 [==============================] - 1s 2ms/step - loss: 0.2993 - accuracy: 0.8761\n",
            "Epoch 89/100\n",
            "400/400 [==============================] - 1s 2ms/step - loss: 0.3062 - accuracy: 0.8697\n",
            "Epoch 90/100\n",
            "400/400 [==============================] - 1s 2ms/step - loss: 0.2922 - accuracy: 0.8748\n",
            "Epoch 91/100\n",
            "400/400 [==============================] - 1s 2ms/step - loss: 0.2954 - accuracy: 0.8767\n",
            "Epoch 92/100\n",
            "400/400 [==============================] - 1s 2ms/step - loss: 0.3111 - accuracy: 0.8698\n",
            "Epoch 93/100\n",
            "400/400 [==============================] - 1s 2ms/step - loss: 0.2962 - accuracy: 0.8822\n",
            "Epoch 94/100\n",
            "400/400 [==============================] - 1s 2ms/step - loss: 0.2953 - accuracy: 0.8773\n",
            "Epoch 95/100\n",
            "400/400 [==============================] - 1s 2ms/step - loss: 0.2970 - accuracy: 0.8799\n",
            "Epoch 96/100\n",
            "400/400 [==============================] - 1s 2ms/step - loss: 0.3042 - accuracy: 0.8718\n",
            "Epoch 97/100\n",
            "400/400 [==============================] - 1s 2ms/step - loss: 0.3104 - accuracy: 0.8712\n",
            "Epoch 98/100\n",
            "400/400 [==============================] - 1s 2ms/step - loss: 0.3013 - accuracy: 0.8769\n",
            "Epoch 99/100\n",
            "400/400 [==============================] - 1s 2ms/step - loss: 0.2955 - accuracy: 0.8779\n",
            "Epoch 100/100\n",
            "400/400 [==============================] - 1s 2ms/step - loss: 0.2912 - accuracy: 0.8830\n"
          ]
        },
        {
          "data": {
            "text/plain": [
              "<tensorflow.python.keras.callbacks.History at 0x7f9945127050>"
            ]
          },
          "execution_count": 29,
          "metadata": {
            "tags": []
          },
          "output_type": "execute_result"
        }
      ],
      "source": [
        "model.fit(train,trainlabel,batch_size=20,epochs = 100) #model run for 100 epochs"
      ]
    },
    {
      "cell_type": "markdown",
      "metadata": {
        "id": "opdUxaYc6rIN"
      },
      "source": [
        "**Predicting the Testing set results**"
      ]
    },
    {
      "cell_type": "code",
      "execution_count": null,
      "metadata": {
        "colab": {
          "base_uri": "https://localhost:8080/"
        },
        "id": "pAfZzBn1BkzU",
        "outputId": "1bc81e4a-2cad-4009-808f-8a25f7b84b7e"
      },
      "outputs": [
        {
          "name": "stdout",
          "output_type": "stream",
          "text": [
            "63/63 [==============================] - 0s 2ms/step - loss: 0.3563 - accuracy: 0.8595\n",
            "Accuarcy: 0.859499990940094\n",
            "Loss: 0.3563094437122345\n"
          ]
        }
      ],
      "source": [
        "loss,acc = model.evaluate(test,testlabel)\n",
        "print(\"Test Accuarcy:\",acc)\n",
        "print(\"Tets Loss:\",loss)"
      ]
    },
    {
      "cell_type": "markdown",
      "metadata": {
        "id": "oBYchm-w7bfm"
      },
      "source": [
        "**Saving and loading the model**\n"
      ]
    },
    {
      "cell_type": "code",
      "execution_count": null,
      "metadata": {
        "id": "lN3Uw9Fr7hwO"
      },
      "outputs": [],
      "source": [
        "model.save(\"/content/drive/MyDrive/churn/model_pd_85.h5\")"
      ]
    },
    {
      "cell_type": "code",
      "execution_count": null,
      "metadata": {
        "colab": {
          "base_uri": "https://localhost:8080/"
        },
        "id": "YJhoVdPU7khC",
        "outputId": "b55b5b29-40bf-4786-be8d-f200e208773e"
      },
      "outputs": [
        {
          "name": "stdout",
          "output_type": "stream",
          "text": [
            "250/250 [==============================] - 0s 1ms/step - loss: 0.3009 - accuracy: 0.8748\n",
            "63/63 [==============================] - 0s 2ms/step - loss: 0.3563 - accuracy: 0.8595\n",
            "Train loss: 0.3009149134159088\n",
            "Train accuracy: 87.4750018119812\n",
            "Test loss: 0.3563094437122345\n",
            "Test accuracy: 85.9499990940094\n"
          ]
        }
      ],
      "source": [
        "from keras.models import load_model\n",
        "model = load_model(\"/content/drive/MyDrive/churn/model_pd_85.h5\")\n",
        "trainloss , trainaccuracy = model.evaluate(train,trainlabel)\n",
        "testloss, testaccuracy = model.evaluate(test,testlabel)\n",
        "print('Train loss:', trainloss)\n",
        "print('Train accuracy:', 100*trainaccuracy)\n",
        "print('Test loss:', testloss)\n",
        "print('Test accuracy:', 100*testaccuracy)"
      ]
    },
    {
      "cell_type": "code",
      "execution_count": null,
      "metadata": {
        "colab": {
          "base_uri": "https://localhost:8080/",
          "height": 459
        },
        "id": "g3N6x-YdETiU",
        "outputId": "d4b247a7-c249-441b-eb0d-42e122706e0d"
      },
      "outputs": [
        {
          "data": {
            "text/plain": [
              "Text(69.0, 0.5, 'Expected')"
            ]
          },
          "execution_count": 36,
          "metadata": {
            "tags": []
          },
          "output_type": "execute_result"
        },
        {
          "data": {
            "image/png": "[encoded data removed]",
            "text/plain": [
              "<Figure size 720x504 with 2 Axes>"
            ]
          },
          "metadata": {
            "needs_background": "light",
            "tags": []
          },
          "output_type": "display_data"
        }
      ],
      "source": [
        "y_predicted = model.predict(test)\n",
        "y_predicted_labels = y_predicted > 0.5\n",
        "cm = tf.math.confusion_matrix(labels=testlabel,predictions=y_predicted_labels)\n",
        "\n",
        "plt.figure(figsize = (10,7))\n",
        "sn.heatmap(cm, annot=True, fmt='d')\n",
        "plt.xlabel('Predicted')\n",
        "plt.ylabel('Expected')"
      ]
    },
    {
      "cell_type": "code",
      "execution_count": null,
      "metadata": {
        "colab": {
          "base_uri": "https://localhost:8080/"
        },
        "id": "nkqHQRWPYJHc",
        "outputId": "e8a5e19a-cb2d-4698-b81c-aa18bfb2558a"
      },
      "outputs": [
        {
          "name": "stdout",
          "output_type": "stream",
          "text": [
            "Precision for customers who did not leave the bank: 0.86\n",
            "Precision for customers who left the bank: 0.82\n"
          ]
        }
      ],
      "source": [
        "#PRECISION\n",
        "precision_0 = round(1548 / (1548+244),2)\n",
        "precision_1 = round(171 / (171+37),2)\n",
        "\n",
        "print(\"Precision for customers who did not leave the bank:\",precision_0)\n",
        "print(\"Precision for customers who left the bank:\",precision_1)"
      ]
    },
    {
      "cell_type": "code",
      "execution_count": null,
      "metadata": {
        "colab": {
          "base_uri": "https://localhost:8080/"
        },
        "id": "YGCZzLf-cj9C",
        "outputId": "8042080b-4635-4b0a-ab10-573a366c81e5"
      },
      "outputs": [
        {
          "name": "stdout",
          "output_type": "stream",
          "text": [
            "Recall for customers who did not leave the bank: 0.98\n",
            "Recall for customers who left the bank: 0.41\n"
          ]
        }
      ],
      "source": [
        "#RECALL\n",
        "recall_0 = round(1548 / (1548+37),2)\n",
        "recall_1 = round(171 / (171+244),2)\n",
        "\n",
        "print(\"Recall for customers who did not leave the bank:\",recall_0)\n",
        "print(\"Recall for customers who left the bank:\",recall_1)"
      ]
    },
    {
      "cell_type": "code",
      "execution_count": null,
      "metadata": {
        "colab": {
          "base_uri": "https://localhost:8080/"
        },
        "id": "gPv5oOSrckNj",
        "outputId": "0468a5ca-8357-4a07-b207-dc94fa98814c"
      },
      "outputs": [
        {
          "name": "stdout",
          "output_type": "stream",
          "text": [
            "F1 score for customers who did not leave the bank: 0.92\n",
            "F1 score for customers who left the bank: 0.55\n"
          ]
        }
      ],
      "source": [
        "#F1 SCORE\n",
        "f1_score_0 = round(2 * ((precision_0 * recall_0) / (precision_0 + recall_0)),2)\n",
        "f1_score_1 = round(2 * ((precision_1 * recall_1) / (precision_1 + recall_1)),2)\n",
        "\n",
        "print(\"F1 score for customers who did not leave the bank:\",f1_score_0)\n",
        "print(\"F1 score for customers who left the bank:\",f1_score_1)"
      ]
    },
    {
      "cell_type": "code",
      "execution_count": null,
      "metadata": {
        "colab": {
          "base_uri": "https://localhost:8080/"
        },
        "id": "u4CBsyZlfw46",
        "outputId": "bc1ba374-0edb-4b78-a134-f6910f6e9ac6"
      },
      "outputs": [
        {
          "name": "stdout",
          "output_type": "stream",
          "text": [
            "              precision    recall  f1-score   support\n",
            "\n",
            "           0       0.86      0.98      0.92      1585\n",
            "           1       0.82      0.41      0.55       415\n",
            "\n",
            "    accuracy                           0.86      2000\n",
            "   macro avg       0.84      0.69      0.73      2000\n",
            "weighted avg       0.86      0.86      0.84      2000\n",
            "\n"
          ]
        }
      ],
      "source": [
        "from sklearn.metrics import classification_report\n",
        "print(classification_report(testlabel,y_predicted_labels))"
      ]
    },
    {
      "cell_type": "markdown",
      "metadata": {
        "id": "3hWrTgGfH1OJ"
      },
      "source": [
        "# **Analysing the impact of each feature on the target attribute**"
      ]
    },
    {
      "cell_type": "code",
      "execution_count": null,
      "metadata": {
        "colab": {
          "base_uri": "https://localhost:8080/",
          "height": 248
        },
        "id": "nbYgcB0qHvnb",
        "outputId": "cec58898-fcb0-45ca-fcfa-846a7e1c1b98"
      },
      "outputs": [
        {
          "data": {
            "image/png": "[encoded data removed]",
            "text/plain": [
              "<Figure size 432x288 with 1 Axes>"
            ]
          },
          "metadata": {
            "tags": []
          },
          "output_type": "display_data"
        }
      ],
      "source": [
        "import matplotlib.pyplot as plt\n",
        "\n",
        "output = dataset['Exited'].value_counts() #counting the number of entries for values of Exited i.e 0,1\n",
        "out_labels = ['Churned','Not Churned']\n",
        "out_explode = [0,0.15]\n",
        "\n",
        "plt.pie(output, labels=out_labels, explode=out_explode, autopct='%1.0f%%',shadow=True)\n",
        "plt.show()"
      ]
    },
    {
      "cell_type": "markdown",
      "metadata": {
        "id": "0t3Iwa0wJVXZ"
      },
      "source": [
        "**Impact of Gender on Churned Data**"
      ]
    },
    {
      "cell_type": "code",
      "execution_count": null,
      "metadata": {
        "colab": {
          "base_uri": "https://localhost:8080/",
          "height": 302
        },
        "id": "u7w54rk8I94g",
        "outputId": "d5fe263b-d273-40cd-ba35-04906d4898d1"
      },
      "outputs": [
        {
          "data": {
            "image/png": "[encoded data removed]",
            "text/plain": [
              "<Figure size 432x288 with 1 Axes>"
            ]
          },
          "metadata": {
            "tags": []
          },
          "output_type": "display_data"
        },
        {
          "data": {
            "text/plain": [
              "Female    1139\n",
              "Male       898\n",
              "Name: Gender, dtype: int64"
            ]
          },
          "execution_count": 17,
          "metadata": {
            "tags": []
          },
          "output_type": "execute_result"
        }
      ],
      "source": [
        "df_cond = dataset['Exited'].values==1\n",
        "df_churned = dataset[df_cond]          #dataset containing only churned entries\n",
        "gen_count = df_churned['Gender'].value_counts()   #counting the number of entries for each gender in churned dataset\n",
        "gen_labels = ['Female','Male']\n",
        "gen_explode = [0,0.15]\n",
        "\n",
        "plt.pie(gen_count, labels=gen_labels, explode=gen_explode, autopct='%1.0f%%',shadow=True)\n",
        "plt.show()\n",
        "gen_count"
      ]
    },
    {
      "cell_type": "markdown",
      "metadata": {
        "id": "JlsyIMrNOJQg"
      },
      "source": [
        "**Impact of geographical data on churned data**"
      ]
    },
    {
      "cell_type": "code",
      "execution_count": null,
      "metadata": {
        "colab": {
          "base_uri": "https://localhost:8080/",
          "height": 315
        },
        "id": "cc1K20HZJbwV",
        "outputId": "5a420e63-231a-42e2-d2b7-c1e86e5d7f4d"
      },
      "outputs": [
        {
          "data": {
            "image/png": "[encoded data removed]",
            "text/plain": [
              "<Figure size 432x288 with 1 Axes>"
            ]
          },
          "metadata": {
            "tags": []
          },
          "output_type": "display_data"
        },
        {
          "data": {
            "text/plain": [
              "Germany    814\n",
              "France     810\n",
              "Spain      413\n",
              "Name: Geography, dtype: int64"
            ]
          },
          "execution_count": 18,
          "metadata": {
            "tags": []
          },
          "output_type": "execute_result"
        }
      ],
      "source": [
        "geo_count = df_churned['Geography'].value_counts() #counting the number of entries for each country in chuned dataset\n",
        "geo_labels = ['France','Germany','Spain']\n",
        "geo_explode = [0,0.1,0.15]\n",
        "\n",
        "plt.pie(geo_count,labels = geo_labels,explode = geo_explode, autopct = '%1.0f%%',shadow = True)\n",
        "plt.show()\n",
        "geo_count"
      ]
    },
    {
      "cell_type": "markdown",
      "metadata": {
        "id": "mU_KXuITRKQD"
      },
      "source": [
        "**Impact of Number Of products the customer has availed in the bank on churned and Non-churned data**\n"
      ]
    },
    {
      "cell_type": "code",
      "execution_count": null,
      "metadata": {
        "colab": {
          "base_uri": "https://localhost:8080/"
        },
        "id": "E3Ctw1aFOUQY",
        "outputId": "f214b580-180d-411e-f08f-eba9e6f0a048"
      },
      "outputs": [
        {
          "data": {
            "text/plain": [
              "2    4242\n",
              "1    3675\n",
              "3      46\n",
              "Name: NumOfProducts, dtype: int64"
            ]
          },
          "execution_count": 19,
          "metadata": {
            "tags": []
          },
          "output_type": "execute_result"
        }
      ],
      "source": [
        "df_cond = dataset['Exited'].values==0\n",
        "df_notchurned = dataset[df_cond]\n",
        "\n",
        "df_notchurned['NumOfProducts'].value_counts() #count for each value of NumOfProducts of non-churned customer"
      ]
    },
    {
      "cell_type": "code",
      "execution_count": null,
      "metadata": {
        "colab": {
          "base_uri": "https://localhost:8080/"
        },
        "id": "ARz7kC5XP-6i",
        "outputId": "60d762f1-ef18-4ca3-aeef-8e63b58f34e2"
      },
      "outputs": [
        {
          "data": {
            "text/plain": [
              "1    1409\n",
              "2     348\n",
              "3     220\n",
              "4      60\n",
              "Name: NumOfProducts, dtype: int64"
            ]
          },
          "execution_count": 20,
          "metadata": {
            "tags": []
          },
          "output_type": "execute_result"
        }
      ],
      "source": [
        "df_churned['NumOfProducts'].value_counts()  #count for each value of NumOfProducts of churned customer"
      ]
    },
    {
      "cell_type": "code",
      "execution_count": null,
      "metadata": {
        "colab": {
          "base_uri": "https://localhost:8080/",
          "height": 401
        },
        "id": "ig1J3UtCRAg7",
        "outputId": "a6cea029-1fd2-4ea3-f018-643d3d39acaf"
      },
      "outputs": [
        {
          "data": {
            "text/plain": [
              "<matplotlib.axes._subplots.AxesSubplot at 0x7fdd49490ed0>"
            ]
          },
          "execution_count": 21,
          "metadata": {
            "tags": []
          },
          "output_type": "execute_result"
        },
        {
          "data": {
            "image/png": "[encoded data removed]",
            "text/plain": [
              "<Figure size 864x432 with 1 Axes>"
            ]
          },
          "metadata": {
            "needs_background": "light",
            "tags": []
          },
          "output_type": "display_data"
        }
      ],
      "source": [
        "dataset.groupby('Exited')['NumOfProducts'].value_counts().unstack('Exited').plot.bar(figsize=(12,6))"
      ]
    },
    {
      "cell_type": "markdown",
      "metadata": {
        "id": "qBBak8LGXWOA"
      },
      "source": [
        "**Analysing the impact of CreditScore, IsActiveMember, HasCrCard and Tenure attributes against the target attribute(Exited) through Bar plots**\n",
        "\n"
      ]
    },
    {
      "cell_type": "code",
      "execution_count": null,
      "metadata": {
        "colab": {
          "base_uri": "https://localhost:8080/",
          "height": 590
        },
        "id": "9ciHp9VDXUkW",
        "outputId": "5fd608ae-4d54-4804-80f2-a821f2848362"
      },
      "outputs": [
        {
          "data": {
            "image/png": "[encoded data removed]",
            "text/plain": [
              "<Figure size 1080x1080 with 2 Axes>"
            ]
          },
          "metadata": {
            "needs_background": "light",
            "tags": []
          },
          "output_type": "display_data"
        }
      ],
      "source": [
        "# Analaysing the effect of being an active member and having credit card and whether or not they have exited.\n",
        "\n",
        "plt.figure(figsize = (15,15))\n",
        "\n",
        "# Plots the bar chart for IsActiveMember(x-axis) with CreditScore(y-axis) and categorises IsActiveMember further as people who Exited vs Not Exited.\n",
        "plt.subplot(3,2,1)\n",
        "_= sn.barplot(x='IsActiveMember',y = 'CreditScore', hue = 'Exited',data = dataset)\n",
        "\n",
        "# Plots the bar chart for HasCrCard(x-axis) with Tenure(y-axis) and categorises HasCrCard further as people who Exited vs Not Exited.\n",
        "plt.subplot(3,2,4)\n",
        "_= sn.barplot(x='HasCrCard',y = 'Tenure',hue = 'Exited',data = dataset)"
      ]
    },
    {
      "cell_type": "markdown",
      "metadata": {
        "id": "qFrYhokSapgn"
      },
      "source": [
        "**Analysing the impact of Balance, Gender and Age attributes against the target attribute(Exited) through Bar plots**"
      ]
    },
    {
      "cell_type": "code",
      "execution_count": null,
      "metadata": {
        "colab": {
          "base_uri": "https://localhost:8080/",
          "height": 966
        },
        "id": "FHDa7L3_XUZ8",
        "outputId": "8cdaca8d-7b82-4ff7-db0e-b28ed11724f6"
      },
      "outputs": [
        {
          "name": "stdout",
          "output_type": "stream",
          "text": [
            "Minimum Age : 18\n",
            "Maximum Age : 92\n"
          ]
        },
        {
          "data": {
            "image/png": "[encoded data removed]",
            "text/plain": [
              "<Figure size 1152x1152 with 2 Axes>"
            ]
          },
          "metadata": {
            "needs_background": "light",
            "tags": []
          },
          "output_type": "display_data"
        }
      ],
      "source": [
        "# we need to know the min and max value of Age attribute inorder to stratify it\n",
        "print(\"Minimum Age : \" + str(min(dataset['Age'])))\n",
        "print(\"Maximum Age : \" + str(max(dataset['Age'])))\n",
        "\n",
        "# Creating a temporary DataFrame\n",
        "tempDf = pd.DataFrame()\n",
        "\n",
        "# pd.cut() categorizes each Age value to fit in the specified cut range. Age is generalised to specific ranges for the purpose of plotting and analysing\n",
        "tempDf['Age'] = pd.cut(dataset.Age, [18,30,45,60,75,95])\n",
        "tempDf['Exited'] = dataset['Exited']\n",
        "tempDf['Gender'] = dataset['Gender']\n",
        "tempDf['Balance'] = dataset['Balance']\n",
        "\n",
        "plt.figure(figsize = (16,16))\n",
        "\n",
        "# Plots the bar chart for Gender(x-axis) with Balance(y-axis) and categorises gender as people who Exited vs Not Exited\n",
        "plt.subplot(2,2,1)\n",
        "_= sn.barplot(x='Gender',y = 'Balance', hue = 'Exited', data = tempDf)\n",
        "\n",
        "# Plots the bar chart for Age(x-axis) with Balance(y-axis) and categorises gender as people who Exited vs Not Exited\n",
        "plt.subplot(2,2,4)\n",
        "_= sn.barplot(x = 'Age', y = 'Balance', hue = 'Exited', data = tempDf)\n"
      ]
    },
    {
      "cell_type": "markdown",
      "metadata": {
        "id": "CJZx1F-OcM_Y"
      },
      "source": [
        "**Analysing the Correlation among attributes by using a heatmap**"
      ]
    },
    {
      "cell_type": "code",
      "execution_count": null,
      "metadata": {
        "colab": {
          "base_uri": "https://localhost:8080/",
          "height": 630
        },
        "id": "KanRWvl5XUNu",
        "outputId": "0816ecf0-740a-4e8c-9d73-05838c00bfba"
      },
      "outputs": [
        {
          "data": {
            "image/png": "[encoded data removed]",
            "text/plain": [
              "<Figure size 720x720 with 2 Axes>"
            ]
          },
          "metadata": {
            "needs_background": "light",
            "tags": []
          },
          "output_type": "display_data"
        }
      ],
      "source": [
        "plt.figure(figsize=(10, 10))\n",
        "sn.set(style = 'white')\n",
        "sn.heatmap(dataset.select_dtypes(include='number').corr(), annot = True, cmap = 'magma', square = True, linewidths=0.1);"
      ]
    },
    {
      "cell_type": "markdown",
      "metadata": {
        "id": "TXX5SAfN877E"
      },
      "source": [
        "#**After analysing ,Testing the unknown sample**"
      ]
    },
    {
      "cell_type": "code",
      "execution_count": null,
      "metadata": {
        "colab": {
          "base_uri": "https://localhost:8080/"
        },
        "id": "w6gFyZ2DEY_E",
        "outputId": "196abba3-0b53-4d92-a735-4c7abe234616"
      },
      "outputs": [
        {
          "name": "stdout",
          "output_type": "stream",
          "text": [
            "[[0.01377169]]\n",
            "Customer will not leave the bank in the future\n"
          ]
        }
      ],
      "source": [
        "result = model.predict(sc.transform([[600, 1, 40, 3, 60000, 2, 1, 1, 50000, 1, 0, 0]]))\n",
        "print(result)\n",
        "if result>0.5:\n",
        "   print(\"Customer will leave the bank in the future\")\n",
        "else:\n",
        "   print(\"Customer will not leave the bank in the future\")"
      ]
    },
    {
      "cell_type": "markdown",
      "metadata": {
        "id": "zVVyK-ja6_t7"
      },
      "source": [
        "Geography: Germany\n",
        "\n",
        "Credit Score: 550\n",
        "\n",
        "Gender: Female\n",
        "\n",
        "Age: 30 years old\n",
        "\n",
        "Tenure: 2 years\n",
        "\n",
        "Balance: $80000\n",
        "\n",
        "Number of Products: 4\n",
        "\n",
        "Does this customer have a credit card? Yes\n",
        "\n",
        "Is this customer an Active Member: No\n",
        "\n",
        "Estimated Salary: $70000"
      ]
    },
    {
      "cell_type": "code",
      "execution_count": null,
      "metadata": {
        "colab": {
          "base_uri": "https://localhost:8080/"
        },
        "id": "Ogh4n_lFuSTb",
        "outputId": "425d0e59-dcee-4557-c238-d9e673f5eb5a"
      },
      "outputs": [
        {
          "name": "stdout",
          "output_type": "stream",
          "text": [
            "[[0.9960829]]\n",
            "Customer will leave the bank in the future\n"
          ]
        }
      ],
      "source": [
        "result = model.predict(sc.transform([[550, 0, 30, 2, 80000, 4, 1, 0, 70000, 0, 1, 0]]))\n",
        "print(result)\n",
        "if result>0.5:\n",
        "   print(\"Customer will leave the bank in the future\")\n",
        "else:\n",
        "   print(\"Customer will not leave the bank in the future\")"
      ]
    }
  ],
  "metadata": {
    "accelerator": "GPU",
    "colab": {
      "provenance": []
    },
    "kernelspec": {
      "display_name": "Python 3",
      "language": "python",
      "name": "python3"
    },
    "language_info": {
      "codemirror_mode": {
        "name": "ipython",
        "version": 3
      },
      "file_extension": ".py",
      "mimetype": "text/x-python",
      "name": "python",
      "nbconvert_exporter": "python",
      "pygments_lexer": "ipython3",
      "version": "3.8.3"
    }
  },
  "nbformat": 4,
  "nbformat_minor": 0
}